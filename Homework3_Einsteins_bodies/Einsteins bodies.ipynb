{
 "cells": [
  {
   "cell_type": "markdown",
   "metadata": {},
   "source": [
    "Есть $N$ частиц, каждая может принимать дискретный набор значений от $0$, до конечного значения: $0$, $1$, $2$... Фиксируется полное значение энергии $E$. Тогда число микросостояний равно:\n",
    "$$\n",
    "    \\Omega = \\frac{(E + N - 1)!}{E!(N-1)!}\n",
    "$$\n",
    "\n",
    "Пусть система состоит из двух подсистем. Подсистема $A$ имеет параметры: $E_A=5$, $N_A=2$. Подсистема $B$ имеет параметры: $E_B=1$, $N_B=1$. Полная энергия фиксирована: $E=E_A+E_B$. Тогда для системы доступно $\\Omega = \\Omega_A\\cdot\\Omega_B=2\\cdot6=12$ микросостояний.\n",
    "\n",
    "Пусть теперь системы обмениваются энергией. Тогда:\n",
    "$$\n",
    "    \\Omega = \\sum\\limits_{E_A}\\Omega_A(E_A)\\cdot\\Omega_B(E-E_A)\n",
    "$$\n",
    "Вероятность: $p_A(E_A)=\\frac{\\Omega_A(E_A)\\cdot\\Omega_B(E-E_A)}{E}$.\n",
    "\n",
    "$$\n",
    "    \\overline{E}_A=\\sum\\limits_{E_A}E_Ap_A(E_A)\n",
    "$$\n",
    "\n",
    "Задача: написать программу, которая реализует два Эйнштейновских тела. В этой системе подсчитать $\\overline{E}_A$, $\\overline{E}_B$, подсчитать энтропию, проверить её аддитивность ($S=S_A+S_B$). Взять $N_A=N_B=4$, $E_A=10$, $E_B=2$"
   ]
  },
  {
   "cell_type": "code",
   "execution_count": 3,
   "metadata": {},
   "outputs": [],
   "source": [
    "import numpy as np\n",
    "import matplotlib.pyplot"
   ]
  },
  {
   "cell_type": "code",
   "execution_count": 4,
   "metadata": {},
   "outputs": [],
   "source": [
    "#Subsystem A\n",
    "N_A = 4\n",
    "E_A = 10\n",
    "\n",
    "#Subsystem B\n",
    "N_B = 4\n",
    "E_B = 2\n"
   ]
  },
  {
   "cell_type": "code",
   "execution_count": null,
   "metadata": {},
   "outputs": [],
   "source": []
  },
  {
   "cell_type": "code",
   "execution_count": null,
   "metadata": {},
   "outputs": [],
   "source": []
  }
 ],
 "metadata": {
  "kernelspec": {
   "display_name": "Python 3",
   "language": "python",
   "name": "python3"
  },
  "language_info": {
   "codemirror_mode": {
    "name": "ipython",
    "version": 3
   },
   "file_extension": ".py",
   "mimetype": "text/x-python",
   "name": "python",
   "nbconvert_exporter": "python",
   "pygments_lexer": "ipython3",
   "version": "3.6.9"
  }
 },
 "nbformat": 4,
 "nbformat_minor": 2
}
