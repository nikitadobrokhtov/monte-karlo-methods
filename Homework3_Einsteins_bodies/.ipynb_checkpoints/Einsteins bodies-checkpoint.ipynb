{
 "cells": [
  {
   "cell_type": "markdown",
   "metadata": {},
   "source": [
    "Есть $N$ частиц, каждая может принимать дискретный набор значений от $0$, до конечного значения: $0$, $1$, $2$... Фиксируется полное значение энергии $E$. Тогда число микросостояний равно:\n",
    "$$\n",
    "    \\Omega = \\frac{(E + N - 1)!}{E!(N-1)!}\n",
    "$$\n",
    "\n",
    "Пусть система состоит из двух подсистем. Подсистема $A$ имеет параметры: $E_A=5$, $N_A=2$. Подсистема $B$ имеет параметры: $E_B=1$, $N_B=2$. Полная энергия фиксирована: $E=E_A+E_B$. Тогда для системы доступно $\\Omega = \\Omega_A\\cdot\\Omega_B=2\\cdot6=12$ микросостояний.\n",
    "\n",
    "Пусть теперь системы обмениваются энергией. Тогда:\n",
    "$$\n",
    "    \\Omega = \\sum\\limits_{E_A}\\Omega_A(E_A)\\cdot\\Omega_B(E-E_A)\n",
    "$$\n",
    "Вероятность: $p_A(E_A)=\\frac{\\Omega_A(E_A)\\cdot\\Omega_B(E-E_A)}{\\Omega}$.\n",
    "\n",
    "$$\n",
    "    \\overline{E}_A=\\sum\\limits_{E_A}E_Ap_A(E_A)\n",
    "$$\n",
    "\n",
    "Задача: написать программу, которая реализует два Эйнштейновских тела. В этой системе подсчитать $\\overline{E}_A$, $\\overline{E}_B$, подсчитать энтропию, проверить её аддитивность ($S=S_A+S_B$). Взять $N_A=N_B=4$, $E_A=10$, $E_B=2$"
   ]
  },
  {
   "cell_type": "code",
   "execution_count": 1,
   "metadata": {},
   "outputs": [],
   "source": [
    "import numpy as np\n",
    "import matplotlib.pyplot\n",
    "\n",
    "from math import factorial\n",
    "from math import log as ln"
   ]
  },
  {
   "cell_type": "code",
   "execution_count": 2,
   "metadata": {},
   "outputs": [],
   "source": [
    "#Subsystem A\n",
    "N_A = 4\n",
    "E_A = 10\n",
    "\n",
    "#Subsystem B\n",
    "N_B = 4\n",
    "E_B = 2\n",
    "\n",
    "#The number of microstates\n",
    "def omega(E, N):\n",
    "    return factorial(E+N-1)/(factorial(E) * factorial(N-1))\n",
    "\n",
    "#Full energy\n",
    "E = E_A + E_B\n",
    "\n"
   ]
  },
  {
   "cell_type": "code",
   "execution_count": 3,
   "metadata": {},
   "outputs": [],
   "source": [
    "#Let the two systems to interact (change energy with each other)\n",
    "\n",
    "Omega = 0   #full number of microstates in system\n",
    "E_A_avg = 0 #average energy A\n",
    "E_B_avg = 0 #average energy B\n",
    "\n",
    "for E_a in range(E + 1):\n",
    "    helper = omega(E_a, N_A) * omega(E - E_a, N_B)\n",
    "    Omega += helper\n",
    "    E_A_avg += helper * E_a\n",
    "    E_B_avg += helper * (E - E_a)\n",
    "    \n",
    "E_A_avg /= Omega\n",
    "E_B_avg /= Omega"
   ]
  },
  {
   "cell_type": "code",
   "execution_count": 4,
   "metadata": {},
   "outputs": [
    {
     "name": "stdout",
     "output_type": "stream",
     "text": [
      "Omega = 50388.0\n",
      "E_A_avg = 6.0\n",
      "E_B_avg = 6.0\n"
     ]
    }
   ],
   "source": [
    "print(\"Omega = \" + str(Omega))\n",
    "print(\"E_A_avg = \" + str(E_A_avg))\n",
    "print(\"E_B_avg = \" + str(E_B_avg))"
   ]
  },
  {
   "cell_type": "code",
   "execution_count": 5,
   "metadata": {},
   "outputs": [],
   "source": [
    "#Let's calculate entropy\n",
    "\n",
    "S_A = ln(omega(E, N_A)) #Subsystem A entropy\n",
    "S_B = ln(omega(E, N_B)) #Subsystem B entropy\n",
    "S = ln(Omega)   #Full system entropy"
   ]
  },
  {
   "cell_type": "code",
   "execution_count": 6,
   "metadata": {},
   "outputs": [
    {
     "name": "stdout",
     "output_type": "stream",
     "text": [
      "S_A = 6.12029741895095\n",
      "S_B = 6.12029741895095\n",
      "S = 10.827508330472194\n"
     ]
    }
   ],
   "source": [
    "print(\"S_A = \" + str(S_A))\n",
    "print(\"S_B = \" + str(S_B))\n",
    "print(\"S = \" + str(S)) #S != S_A + S_B"
   ]
  }
 ],
 "metadata": {
  "kernelspec": {
   "display_name": "Python 3",
   "language": "python",
   "name": "python3"
  },
  "language_info": {
   "codemirror_mode": {
    "name": "ipython",
    "version": 3
   },
   "file_extension": ".py",
   "mimetype": "text/x-python",
   "name": "python",
   "nbconvert_exporter": "python",
   "pygments_lexer": "ipython3",
   "version": "3.7.3"
  }
 },
 "nbformat": 4,
 "nbformat_minor": 2
}
