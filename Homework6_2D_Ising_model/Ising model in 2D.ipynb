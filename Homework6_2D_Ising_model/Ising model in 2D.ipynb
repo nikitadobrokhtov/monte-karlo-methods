{
 "cells": [
  {
   "cell_type": "markdown",
   "metadata": {},
   "source": [
    "Численное решение модели Изинга в интернете:\n",
    "\n",
    "https://github.com/prtkm/ising-monte-carlo/blob/master/ising-monte-carlo.org"
   ]
  },
  {
   "cell_type": "code",
   "execution_count": 3,
   "metadata": {},
   "outputs": [],
   "source": [
    "from __future__ import division\n",
    "import numpy as np\n",
    "\n",
    "def init_lattice(n):\n",
    "\n",
    "    '''Create a nxn lattice with random spin configuration'''\n",
    "    \n",
    "    lattice = np.random.choice([1, -1], size=(n, n))\n",
    "    return lattice\n",
    "\n",
    "\n",
    "def deltaE(S0, Sn, J, H):\n",
    "\n",
    "    '''Energy difference for a spin flip'''\n",
    "    \n",
    "    return 2 * S0 * (H + J * Sn)\n",
    "\n",
    "\n",
    "def ising(n=200, \n",
    "          nsteps=500000,\n",
    "          H=0,\n",
    "          J=1,\n",
    "          T=1,\n",
    "          count_spins = False,\n",
    "          countij = [1,1],\n",
    "          correlation=False,\n",
    "          corr_ij=[0,0],\n",
    "          corr_r=1):\n",
    "\n",
    "    '''Ising Model Simulator. If count_spins = True, only flipping behavior of 1 site is studied.'''\n",
    "    \n",
    "    lattice = init_lattice(n)\n",
    "    energy = 0\n",
    "    energies = []\n",
    "    spins = []\n",
    "    spin = np.sum(lattice)\n",
    "    icount, jcount = countij\n",
    "    counted_spins = [lattice[icount, jcount]]\n",
    "    counted_intervals = []\n",
    "    icorr, jcorr = corr_ij\n",
    "    Sis = []\n",
    "    SiSjs = []\n",
    "    \n",
    "    for step in range(nsteps):\n",
    "\n",
    "        i = np.random.randint(n)\n",
    "        j = np.random.randint(n)\n",
    "\n",
    "        # Periodic Boundary Condition\n",
    "        Sn = lattice[(i - 1) % n, j] + lattice[(i + 1) % n, j] + \\\n",
    "             lattice[i, (j - 1) % n] + lattice[i, (j + 1) % n]\n",
    "\n",
    "        dE = deltaE(lattice[i, j], Sn, J, H)\n",
    "\n",
    "        if dE < 0 or np.random.random() < np.exp(-dE/T):\n",
    "            lattice[i, j] = -lattice[i, j]\n",
    "            energy += dE\n",
    "            energies.append(energy)\n",
    "         # Note that the spin is collected at every step\n",
    "            spin += 2*lattice[i, j]\n",
    "        \n",
    "        if count_spins:\n",
    "            ispin = lattice[icount, jcount]\n",
    "            if ispin != counted_spins[-1]:\n",
    "                counted_spins.append(ispin)\n",
    "                counted_interval = step - sum(counted_intervals)\n",
    "\n",
    "                counted_intervals.append(counted_interval)\n",
    "        if correlation:\n",
    "            Sn_corr = lattice[(icorr - corr_r) % n, jcorr] + lattice[(icorr + corr_r) % n, jcorr] + \\\n",
    "                      lattice[icorr, (jcorr - corr_r) % n] + lattice[icorr, (jcorr + corr_r) % n]\n",
    "            Si = lattice[icorr, jcorr]\n",
    "            SiSj = Si * Sn_corr / 4.0\n",
    "            Sis.append(Si)\n",
    "            SiSjs.append(SiSj)\n",
    "            \n",
    "        spins.append(spin)\n",
    "\n",
    "\n",
    "    if correlation:\n",
    "        return Sis, SiSjs\n",
    "    \n",
    "    if count_spins:\n",
    "        return counted_spins, counted_intervals\n",
    "        \n",
    "    return lattice, energies, spins"
   ]
  },
  {
   "cell_type": "code",
   "execution_count": 7,
   "metadata": {},
   "outputs": [],
   "source": [
    "import time"
   ]
  },
  {
   "cell_type": "code",
   "execution_count": 27,
   "metadata": {},
   "outputs": [
    {
     "data": {
      "text/plain": [
       "1604900044.4544644"
      ]
     },
     "execution_count": 27,
     "metadata": {},
     "output_type": "execute_result"
    }
   ],
   "source": [
    "time.time()"
   ]
  },
  {
   "cell_type": "code",
   "execution_count": 78,
   "metadata": {},
   "outputs": [
    {
     "name": "stdout",
     "output_type": "stream",
     "text": [
      "--- seconds --- 6.552072286605835\n"
     ]
    }
   ],
   "source": [
    "time_now = time.time()\n",
    "lattice, energies, spins = ising(n=100, \n",
    "          nsteps=1000000,\n",
    "          H=0,\n",
    "          J=1,\n",
    "          T=1,\n",
    "          count_spins = False,\n",
    "          countij = [1,1],\n",
    "          correlation=False,\n",
    "          corr_ij=[0,0],\n",
    "          corr_r=1)\n",
    "print(\"--- seconds ---\", time.time() - time_now)"
   ]
  },
  {
   "cell_type": "code",
   "execution_count": 60,
   "metadata": {},
   "outputs": [
    {
     "data": {
      "image/png": "[encoded data removed]",
      "text/plain": [
       "<Figure size 432x288 with 1 Axes>"
      ]
     },
     "metadata": {
      "needs_background": "light"
     },
     "output_type": "display_data"
    }
   ],
   "source": [
    "import matplotlib.pyplot as plt\n",
    "\n",
    "plt.plot(energies)\n",
    "plt.show()"
   ]
  },
  {
   "cell_type": "code",
   "execution_count": 67,
   "metadata": {},
   "outputs": [
    {
     "ename": "IndexError",
     "evalue": "index 100 is out of bounds for axis 0 with size 100",
     "output_type": "error",
     "traceback": [
      "\u001b[0;31m---------------------------------------------------------------------------\u001b[0m",
      "\u001b[0;31mIndexError\u001b[0m                                Traceback (most recent call last)",
      "\u001b[0;32m<ipython-input-67-b6863812acf0>\u001b[0m in \u001b[0;36m<module>\u001b[0;34m\u001b[0m\n\u001b[1;32m      1\u001b[0m \u001b[0mx\u001b[0m\u001b[0;34m,\u001b[0m \u001b[0my\u001b[0m \u001b[0;34m=\u001b[0m \u001b[0mnp\u001b[0m\u001b[0;34m.\u001b[0m\u001b[0mmeshgrid\u001b[0m\u001b[0;34m(\u001b[0m\u001b[0;36m100\u001b[0m\u001b[0;34m,\u001b[0m\u001b[0;36m100\u001b[0m\u001b[0;34m)\u001b[0m\u001b[0;34m\u001b[0m\u001b[0;34m\u001b[0m\u001b[0m\n\u001b[0;32m----> 2\u001b[0;31m \u001b[0mplt\u001b[0m\u001b[0;34m.\u001b[0m\u001b[0mscatter\u001b[0m\u001b[0;34m(\u001b[0m\u001b[0mx\u001b[0m\u001b[0;34m,\u001b[0m\u001b[0my\u001b[0m\u001b[0;34m,\u001b[0m\u001b[0mc\u001b[0m\u001b[0;34m=\u001b[0m\u001b[0mlattice\u001b[0m\u001b[0;34m[\u001b[0m\u001b[0mx\u001b[0m\u001b[0;34m,\u001b[0m\u001b[0my\u001b[0m\u001b[0;34m]\u001b[0m\u001b[0;34m)\u001b[0m\u001b[0;34m\u001b[0m\u001b[0;34m\u001b[0m\u001b[0m\n\u001b[0m\u001b[1;32m      3\u001b[0m \u001b[0mplt\u001b[0m\u001b[0;34m.\u001b[0m\u001b[0mshow\u001b[0m\u001b[0;34m(\u001b[0m\u001b[0;34m)\u001b[0m\u001b[0;34m\u001b[0m\u001b[0;34m\u001b[0m\u001b[0m\n",
      "\u001b[0;31mIndexError\u001b[0m: index 100 is out of bounds for axis 0 with size 100"
     ]
    }
   ],
   "source": [
    "x, y = np.meshgrid(100,100)\n",
    "plt.scatter(x,y,c=lattice[x,y])\n",
    "plt.show()"
   ]
  },
  {
   "cell_type": "code",
   "execution_count": 73,
   "metadata": {},
   "outputs": [
    {
     "ename": "TypeError",
     "evalue": "scatter() missing 1 required positional argument: 'y'",
     "output_type": "error",
     "traceback": [
      "\u001b[0;31m---------------------------------------------------------------------------\u001b[0m",
      "\u001b[0;31mTypeError\u001b[0m                                 Traceback (most recent call last)",
      "\u001b[0;32m<ipython-input-73-00cca54fc78a>\u001b[0m in \u001b[0;36m<module>\u001b[0;34m\u001b[0m\n\u001b[0;32m----> 1\u001b[0;31m \u001b[0mplt\u001b[0m\u001b[0;34m.\u001b[0m\u001b[0mscatter\u001b[0m\u001b[0;34m(\u001b[0m\u001b[0mlattice\u001b[0m\u001b[0;34m)\u001b[0m\u001b[0;34m\u001b[0m\u001b[0;34m\u001b[0m\u001b[0m\n\u001b[0m",
      "\u001b[0;31mTypeError\u001b[0m: scatter() missing 1 required positional argument: 'y'"
     ]
    }
   ],
   "source": [
    "plt.scatter(lattice)"
   ]
  },
  {
   "cell_type": "code",
   "execution_count": 74,
   "metadata": {},
   "outputs": [
    {
     "data": {
      "text/plain": [
       "array([[ 1,  1,  1, ...,  1,  1,  1],\n",
       "       [ 1,  1, -1, ...,  1,  1,  1],\n",
       "       [ 1,  1,  1, ...,  1,  1,  1],\n",
       "       ...,\n",
       "       [ 1,  1,  1, ...,  1,  1,  1],\n",
       "       [ 1,  1,  1, ...,  1,  1, -1],\n",
       "       [ 1,  1,  1, ...,  1,  1,  1]])"
      ]
     },
     "execution_count": 74,
     "metadata": {},
     "output_type": "execute_result"
    }
   ],
   "source": [
    "lattice"
   ]
  },
  {
   "cell_type": "code",
   "execution_count": 77,
   "metadata": {},
   "outputs": [
    {
     "ename": "TypeError",
     "evalue": "hist2d() missing 1 required positional argument: 'y'",
     "output_type": "error",
     "traceback": [
      "\u001b[0;31m---------------------------------------------------------------------------\u001b[0m",
      "\u001b[0;31mTypeError\u001b[0m                                 Traceback (most recent call last)",
      "\u001b[0;32m<ipython-input-77-6c53a90fdfaa>\u001b[0m in \u001b[0;36m<module>\u001b[0;34m\u001b[0m\n\u001b[0;32m----> 1\u001b[0;31m \u001b[0mplt\u001b[0m\u001b[0;34m.\u001b[0m\u001b[0mhist2d\u001b[0m\u001b[0;34m(\u001b[0m\u001b[0mlattice\u001b[0m\u001b[0;34m)\u001b[0m\u001b[0;34m\u001b[0m\u001b[0;34m\u001b[0m\u001b[0m\n\u001b[0m",
      "\u001b[0;31mTypeError\u001b[0m: hist2d() missing 1 required positional argument: 'y'"
     ]
    }
   ],
   "source": [
    "plt.hist2d(lattice) "
   ]
  },
  {
   "cell_type": "code",
   "execution_count": 62,
   "metadata": {},
   "outputs": [
    {
     "data": {
      "image/png": "[encoded data removed]",
      "text/plain": [
       "<Figure size 432x288 with 1 Axes>"
      ]
     },
     "metadata": {
      "needs_background": "light"
     },
     "output_type": "display_data"
    }
   ],
   "source": [
    "\n",
    "for i in range(100):\n",
    "    for j in range(100):\n",
    "        plt.plot(lattice[i, j])\n",
    "plt.plot(lattice, '.')\n",
    "plt.show()"
   ]
  }
 ],
 "metadata": {
  "kernelspec": {
   "display_name": "Python 3",
   "language": "python",
   "name": "python3"
  },
  "language_info": {
   "codemirror_mode": {
    "name": "ipython",
    "version": 3
   },
   "file_extension": ".py",
   "mimetype": "text/x-python",
   "name": "python",
   "nbconvert_exporter": "python",
   "pygments_lexer": "ipython3",
   "version": "3.7.3"
  }
 },
 "nbformat": 4,
 "nbformat_minor": 2
}
