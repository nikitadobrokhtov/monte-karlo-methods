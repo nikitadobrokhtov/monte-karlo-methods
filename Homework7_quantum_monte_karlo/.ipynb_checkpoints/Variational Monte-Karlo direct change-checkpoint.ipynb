{
 "cells": [
  {
   "cell_type": "markdown",
   "metadata": {},
   "source": [
    "### Вариационный метод Монте-Карло\n",
    "\n",
    "$$\n",
    "    \\left<H\\right>=\\frac{\\int\\psi^*\\hat{H}\\psi d\\boldsymbol{r}}{\\int\\psi^*\\psi d\\boldsymbol{r}} > E_0\n",
    "$$\n",
    "\n",
    "Пробная волновая функция: $\\psi_0=\\cos{x}$. $x\\in\\left[-\\frac{\\pi}{2}, \\frac{\\pi}{2}\\right]$, $\\hat{H} = -\\frac{1}{2}\\Delta + \\hat{V}$, $\\hat{V}=\\frac{1}{2}\\hat{x}^2$\n",
    "\n",
    "Моделирование:\n",
    "1. Сетка по $x$\n",
    "2. Выбираем случайную точку $x_r$ и изменяем значение $\\psi_r=\\psi(x_r)$ на случайную величину из промежутка $[-\\sigma, \\sigma]$.\n",
    "3. Вычисляем $\\Delta E$. Если $\\Delta E\\leq0$, то принимаем конфигурацию; иначе - отвергаем. \n",
    "4. Повторяем до достижения сходимости\n",
    "\n",
    "\n"
   ]
  },
  {
   "cell_type": "markdown",
   "metadata": {},
   "source": [
    "Воспользуемся формулой трапеции для численного подсчёта интеграла:\n",
    "$$\n",
    "    \\int\\limits_a^bf(x)dx \\approx (b-a)\\cdot \\frac{f(a)+f(b)}{2}\n",
    "$$\n",
    "\n",
    "Для аппроксимации второго порядка второй производной, воспользуемся следующей формулой:\n",
    "$$\n",
    "    y''(x) \\approx\n",
    "    \\begin{cases}\n",
    "        \\frac{y_{n-1}-2y_n+y_{n+1}}{dx^2}, n\\notin\\{0, N\\}\\\\\n",
    "        \\frac{2y_n - 5y_{n+1} + 4y_{n+2} - y_{n+3}}{dx^2}, n=0\\\\\n",
    "        \\frac{2y_n - 5y_{n-1} + 4y_{n-2} - y_{n-3}}{dx^2}, n=N\n",
    "    \\end{cases}\n",
    "$$"
   ]
  },
  {
   "cell_type": "code",
   "execution_count": 1,
   "metadata": {},
   "outputs": [],
   "source": [
    "import numpy as np\n",
    "import matplotlib.pyplot as plt\n",
    "import time"
   ]
  },
  {
   "cell_type": "code",
   "execution_count": 2,
   "metadata": {},
   "outputs": [],
   "source": [
    "#Numerical derivative\n",
    "def second_derivative(psi, dx):\n",
    "    new_psi = np.zeros(len(psi))\n",
    "    for i in range(len(new_psi)):\n",
    "        if (i == 0):\n",
    "            new_psi[i] = (2 * psi[i] - 5 * psi[i + 1] + 4 * psi[i + 2] - psi[i + 3]) / (dx**2)\n",
    "        elif(i == len(new_psi) - 1):\n",
    "            new_psi[i] = (2 * psi[i] - 5 * psi[i - 1] + 4 * psi[i - 2] - psi[i - 3]) / (dx**2)\n",
    "        else:\n",
    "            new_psi[i] = (psi[i - 1] - 2 * psi[i] + psi[i + 1]) / (dx**2)\n",
    "    return new_psi\n",
    "\n",
    "#Numerical integration\n",
    "def average_E(psi):\n",
    "    psi_square = 0\n",
    "    psi_mult_x_square = 0\n",
    "    psi_second_derivative = 0\n",
    "    laplas_psi = second_derivative(psi, dx)\n",
    "    \n",
    "    for i in range(len(x) - 1):\n",
    "        psi_square += dx * (psi[i + 1] ** 2 + psi[i] ** 2) / 2\n",
    "        psi_mult_x_square += dx * (psi[i + 1] ** 2 * x[i + 1] ** 2 + psi[i] ** 2 * x[i] ** 2) / 2\n",
    "        psi_second_derivative += dx * (psi[i + 1] * laplas_psi[i + 1] + psi[i] * laplas_psi[i]) / 2\n",
    "        \n",
    "    return (psi_mult_x_square - psi_second_derivative) / (2 * psi_square)"
   ]
  },
  {
   "cell_type": "code",
   "execution_count": 3,
   "metadata": {},
   "outputs": [],
   "source": [
    "#Generators of random uniform value and random int\n",
    "def next_random_uniform_value(sigma):\n",
    "    while 1:\n",
    "        yield np.random.uniform(-1 * sigma, sigma)\n",
    "\n",
    "def next_random_int(nodes_in_net):\n",
    "    while 1:\n",
    "        yield np.random.randint(nodes_in_net)"
   ]
  },
  {
   "cell_type": "code",
   "execution_count": 4,
   "metadata": {},
   "outputs": [],
   "source": [
    "nodes = 500\n",
    "x = np.linspace(-np.pi/2, np.pi/2, nodes)\n",
    "dx = x[1] - x[0]\n",
    "\n",
    "psi_0 = psi = [np.cos(item) for item in x]\n",
    "\n",
    "ruv = next_random_uniform_value(5 * dx)\n",
    "ri = next_random_int(nodes)\n",
    "\n",
    "#Initial energy\n",
    "E_0 = average_E(psi_0)\n",
    "accepted = 0\n",
    "non_accepted = 0"
   ]
  },
  {
   "cell_type": "code",
   "execution_count": 5,
   "metadata": {},
   "outputs": [],
   "source": [
    "for step in range(2000):\n",
    "    i = next(ri)\n",
    "    delta = next(ruv)\n",
    "    psi[i] += delta\n",
    "    E = average_E(psi)\n",
    "    if (E <= E_0):\n",
    "        E_0 = E\n",
    "        accepted += 1\n",
    "    else:\n",
    "        psi[i] -= delta\n",
    "        non_accepted += 1"
   ]
  },
  {
   "cell_type": "code",
   "execution_count": 6,
   "metadata": {},
   "outputs": [
    {
     "data": {
      "text/plain": [
       "5"
      ]
     },
     "execution_count": 6,
     "metadata": {},
     "output_type": "execute_result"
    }
   ],
   "source": [
    "accepted"
   ]
  },
  {
   "cell_type": "code",
   "execution_count": 11,
   "metadata": {},
   "outputs": [
    {
     "data": {
      "image/png": "[encoded data removed]",
      "text/plain": [
       "<Figure size 864x648 with 1 Axes>"
      ]
     },
     "metadata": {
      "needs_background": "light"
     },
     "output_type": "display_data"
    }
   ],
   "source": [
    "fig = plt.figure(figsize = (12, 9))\n",
    "\n",
    "\n",
    "plt.plot(x, psi, label=\"$\\\\psi(x)$\")\n",
    "plt.plot(x, psi_0, label=\"$\\\\psi_0=\\\\cos{x}$\")\n",
    "plt.legend()\n",
    "\n",
    "plt.xlabel(\"$x\\\\in\\\\left[-\\\\frac{\\\\pi}{2}, \\\\frac{\\\\pi}{2}\\\\right]$\")\n",
    "\n",
    "plt.show()"
   ]
  }
 ],
 "metadata": {
  "kernelspec": {
   "display_name": "Python 3",
   "language": "python",
   "name": "python3"
  },
  "language_info": {
   "codemirror_mode": {
    "name": "ipython",
    "version": 3
   },
   "file_extension": ".py",
   "mimetype": "text/x-python",
   "name": "python",
   "nbconvert_exporter": "python",
   "pygments_lexer": "ipython3",
   "version": "3.7.3"
  }
 },
 "nbformat": 4,
 "nbformat_minor": 2
}
