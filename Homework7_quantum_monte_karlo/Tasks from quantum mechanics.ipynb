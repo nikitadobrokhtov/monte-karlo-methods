{
 "cells": [
  {
   "cell_type": "markdown",
   "metadata": {},
   "source": [
    "\n",
    "\n",
    "$$\n",
    "    \\frac{\\int\\psi^*\\hat{H}\\psi d\\boldsymbol{r}}{\\int\\psi^*\\psi d\\boldsymbol{r}} = E > E_0\n",
    "$$\n",
    "\n",
    "\n",
    "\n",
    "Начальные условия для первой задачи: \n",
    "$$\n",
    "    \\hat{H} = \\frac{1}{2}\\Delta + \\hat{V}, \\hat{V}=\\frac{1}{2}\\hat{x}^2;\\\\\n",
    "    x\\in\\left[-\\frac{\\pi}{2}, \\frac{\\pi}{2}\\right], \\;\\; \\psi_0=\\cos{x}\n",
    "$$\n",
    "\n",
    "$\\psi_0$ - начальное приближение, к которому будет применяться метод"
   ]
  },
  {
   "cell_type": "code",
   "execution_count": 1,
   "metadata": {},
   "outputs": [],
   "source": [
    "import numpy as np\n",
    "import matplotlib.pyplot as plt\n",
    "import time"
   ]
  },
  {
   "cell_type": "code",
   "execution_count": 4,
   "metadata": {},
   "outputs": [],
   "source": [
    "x = np.linspace(-np.pi/2, np.pi/2, 500)\n",
    "dx = x[1] - x[0]\n",
    "\n",
    "psi = [np.cos(item) for item in x]"
   ]
  },
  {
   "cell_type": "markdown",
   "metadata": {},
   "source": [
    "$$\n",
    "    \\int\\limits_a^bf(x)dx \\approx (b-a)\\cdot \\frac{f(a)+f(b)}{2}\n",
    "$$"
   ]
  },
  {
   "cell_type": "code",
   "execution_count": 12,
   "metadata": {},
   "outputs": [],
   "source": [
    "psi_sq = 0\n",
    "psi_x_sq = 0\n",
    "psi_del = 0\n",
    "\n",
    "for i in range(len(x) - 1):\n",
    "    psi_sq += dx * (psi[i + 1] ** 2 + psi[i] ** 2) / 2\n",
    "    psi_x_sq += dx * (psi[i + 1] ** 2 * x[i + 1] ** 2 + psi[i] ** 2 * x[i] ** 2) / 2\n"
   ]
  },
  {
   "cell_type": "code",
   "execution_count": 14,
   "metadata": {},
   "outputs": [
    {
     "data": {
      "text/plain": [
       "0.5065300315327773"
      ]
     },
     "execution_count": 14,
     "metadata": {},
     "output_type": "execute_result"
    }
   ],
   "source": [
    "psi_x_sq"
   ]
  },
  {
   "cell_type": "code",
   "execution_count": null,
   "metadata": {},
   "outputs": [],
   "source": []
  }
 ],
 "metadata": {
  "kernelspec": {
   "display_name": "Python 3",
   "language": "python",
   "name": "python3"
  },
  "language_info": {
   "codemirror_mode": {
    "name": "ipython",
    "version": 3
   },
   "file_extension": ".py",
   "mimetype": "text/x-python",
   "name": "python",
   "nbconvert_exporter": "python",
   "pygments_lexer": "ipython3",
   "version": "3.6.9"
  }
 },
 "nbformat": 4,
 "nbformat_minor": 2
}
