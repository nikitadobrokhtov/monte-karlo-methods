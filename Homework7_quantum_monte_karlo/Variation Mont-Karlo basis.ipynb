{
 "cells": [
  {
   "cell_type": "markdown",
   "metadata": {},
   "source": [
    "### Вариационный метод Монте-Карло в базисе\n",
    "\n",
    "Волновая функция разлагается по полному набору базисных функций $f_n$:\n",
    "\n",
    "$$\n",
    "    \\psi=\\sum\\limits_nc_nf_n\n",
    "$$\n",
    "\n",
    "Берётся заданное число базисных функций, гамильтониан $\\hat{H}=\\hat{T}+\\hat{V}$. Нужно вычислить $\\left<H\\right>=\\frac{\\int\\psi^*(x)\\hat{H}\\psi(x) dx}{\\int\\psi^*(x)\\psi(x) dx}$ и минимизировать. $T_{nm}=\\left<n|T|m\\right>$, $V_{nm}=\\left<n|V|m\\right>$. Тогда:\n",
    "\n",
    "$$\n",
    "    \\left<H\\right>=\\frac{\\sum\\limits_{n,m}c_n^*c_m(T_{nm}+V_{nm})}{\\sum\\limits_{n,m}c_n^*c_m}\n",
    "$$\n",
    "\n",
    "Ангармонический осциллятор: $\\hat{V}=\\frac{\\hat{x}^2}{2}+\\frac{\\hat{x}^4}{8}$\n",
    "\n",
    "Базисные функции: $f_n=N_nH_ne^{-\\frac{x^2}{2}}$, $N_n=\\left(\\frac{1}{\\pi^{\\frac{1}{2}}2^nn!}\\right)^{\\frac{1}{2}}$, $H_n(x)=(-1)^ne^{x^2}\\frac{d^n}{dx^n}\\left(e^{-x^2}\\right)$\n",
    "\n",
    "Алгоритм: выбираем $c_n$, изменяем его на случайную величину из промежутка $[-\\sigma, \\sigma]$. Если $\\Delta E<0$, то принимаем новый коэффициент. Начальные значения: $c_0=1, c_n=0, \\forall n\\in\\mathbb{N}$"
   ]
  },
  {
   "cell_type": "code",
   "execution_count": 1,
   "metadata": {},
   "outputs": [],
   "source": [
    "import numpy as np\n",
    "import matplotlib.pyplot as plt\n",
    "import time"
   ]
  },
  {
   "cell_type": "code",
   "execution_count": 2,
   "metadata": {},
   "outputs": [],
   "source": [
    "#Numerical derivative\n",
    "def second_derivative(psi, dx):\n",
    "    new_psi = np.zeros(len(psi))\n",
    "    for i in range(len(new_psi)):\n",
    "        if (i == 0):\n",
    "            new_psi[i] = (2 * psi[i] - 5 * psi[i + 1] + 4 * psi[i + 2] - psi[i + 3]) / (dx**2)\n",
    "        elif(i == len(new_psi) - 1):\n",
    "            new_psi[i] = (2 * psi[i] - 5 * psi[i - 1] + 4 * psi[i - 2] - psi[i - 3]) / (dx**2)\n",
    "        else:\n",
    "            new_psi[i] = (psi[i - 1] - 2 * psi[i] + psi[i + 1]) / (dx**2)\n",
    "    return new_psi\n",
    "\n",
    "#Numerical integration\n",
    "def average_E(psi):\n",
    "    psi_square = 0\n",
    "    psi_mult_x_square = 0\n",
    "    psi_mult_x_4 = 0\n",
    "    psi_second_derivative = 0\n",
    "    laplas_psi = second_derivative(psi, dx)\n",
    "    \n",
    "    for i in range(len(x) - 1):\n",
    "        psi_square += dx * (psi[i + 1] ** 2 + psi[i] ** 2) / 2\n",
    "        psi_mult_x_square += dx * (psi[i + 1] ** 2 * x[i + 1] ** 2 + psi[i] ** 2 * x[i] ** 2) / 2\n",
    "        psi_mult_x_4 += dx * (psi[i + 1] ** 2 * x[i + 1] ** 4 + psi[i] ** 2 * x[i] ** 4) / 2\n",
    "        psi_second_derivative += dx * (psi[i + 1] * laplas_psi[i + 1] + psi[i] * laplas_psi[i]) / 2\n",
    "        \n",
    "    return (psi_mult_x_square / 2 + psi_mult_x_4 / 8 - psi_second_derivative / 2) /  psi_square"
   ]
  },
  {
   "cell_type": "code",
   "execution_count": 3,
   "metadata": {},
   "outputs": [],
   "source": [
    "#Generators of random uniform value and random int\n",
    "def next_random_uniform_value(sigma):\n",
    "    while 1:\n",
    "        yield np.random.uniform(-1 * sigma, sigma)\n",
    "\n",
    "def next_random_int(nodes_in_net):\n",
    "    while 1:\n",
    "        yield np.random.randint(nodes_in_net)"
   ]
  },
  {
   "cell_type": "code",
   "execution_count": 4,
   "metadata": {},
   "outputs": [],
   "source": [
    "nodes = 500\n",
    "coefs = 5\n",
    "x = np.linspace(-np.pi/2, np.pi/2, nodes)\n",
    "dx = x[1] - x[0]\n",
    "\n",
    "#Define basis functions\n",
    "psi = np.polynomial.Hermite([1, 0, 0, 0, 0], [-np.pi / 2, np.pi / 2])\n",
    "psi_0 = np.polynomial.Hermite([1, 0, 0, 0, 0], [-np.pi / 2, np.pi / 2])\n",
    "\n",
    "#Initial energy\n",
    "E_0 = average_E(psi_0.linspace(nodes)[1])\n",
    "accepted = 0\n",
    "non_accepted = 0\n",
    "\n",
    "#Parameters of randomizers\n",
    "ruv = next_random_uniform_value(dx)\n",
    "ri = next_random_int(coefs)"
   ]
  },
  {
   "cell_type": "code",
   "execution_count": 5,
   "metadata": {},
   "outputs": [
    {
     "name": "stdout",
     "output_type": "stream",
     "text": [
      "Initial energy: E_0 =  0.5634425995091316\n"
     ]
    }
   ],
   "source": [
    "print(\"Initial energy: E_0 = \", E_0)"
   ]
  },
  {
   "cell_type": "code",
   "execution_count": 6,
   "metadata": {},
   "outputs": [],
   "source": [
    "for step in range(2000):\n",
    "    i = next(ri)\n",
    "    delta = next(ruv)\n",
    "    psi.coef[i] += delta\n",
    "    E = average_E(psi.linspace(nodes)[1])\n",
    "    if (E <= E_0):\n",
    "        E_0 = E\n",
    "        accepted += 1\n",
    "    else:\n",
    "        psi.coef[i] -= delta\n",
    "        non_accepted += 1"
   ]
  },
  {
   "cell_type": "code",
   "execution_count": 7,
   "metadata": {},
   "outputs": [
    {
     "name": "stdout",
     "output_type": "stream",
     "text": [
      "Energy after minimization: E_0 =  -4.367992506951053\n",
      "Accepted:  399\n",
      "Non-accepted:  1601\n"
     ]
    }
   ],
   "source": [
    "print(\"Energy after minimization: E_0 = \", E_0)\n",
    "print(\"Accepted: \", accepted)\n",
    "print(\"Non-accepted: \", non_accepted)"
   ]
  },
  {
   "cell_type": "code",
   "execution_count": 8,
   "metadata": {},
   "outputs": [
    {
     "data": {
      "image/png": "[encoded data removed]",
      "text/plain": [
       "<Figure size 864x648 with 1 Axes>"
      ]
     },
     "metadata": {
      "needs_background": "light"
     },
     "output_type": "display_data"
    }
   ],
   "source": [
    "fig = plt.figure(figsize = (12, 9))\n",
    "\n",
    "\n",
    "plt.plot(x, psi.linspace(nodes)[1], label=\"$\\\\psi(x)$\")\n",
    "plt.plot(x, psi_0.linspace(nodes)[1], label=\"$\\\\psi_0=H_0(x)$\")\n",
    "plt.legend()\n",
    "\n",
    "plt.xlabel(\"$x\\\\in\\\\left[-\\\\frac{\\\\pi}{2}, \\\\frac{\\\\pi}{2}\\\\right]$\")\n",
    "plt.title(\"Angarmonic oscillator\")\n",
    "\n",
    "plt.show()"
   ]
  },
  {
   "cell_type": "code",
   "execution_count": 9,
   "metadata": {},
   "outputs": [
    {
     "data": {
      "text/latex": [
       "$x \\mapsto \\text{0.4905979925457622}\\,{H}_{0}(\\text{0.6366197723675814}x)\\color{LightGray}{ + \\text{0.0}\\,{H}_{1}(\\text{0.6366197723675814}x)} + \\text{0.588792689098238}\\,{H}_{2}(\\text{0.6366197723675814}x)\\color{LightGray}{ + \\text{0.0}\\,{H}_{3}(\\text{0.6366197723675814}x)} + \\text{0.06261773420638772}\\,{H}_{4}(\\text{0.6366197723675814}x)$"
      ],
      "text/plain": [
       "Hermite([0.49059799, 0.        , 0.58879269, 0.        , 0.06261773], domain=[-1.57079633,  1.57079633], window=[-1,  1])"
      ]
     },
     "execution_count": 9,
     "metadata": {},
     "output_type": "execute_result"
    }
   ],
   "source": [
    "#Coefficients of Hermite polynomials\n",
    "psi"
   ]
  },
  {
   "cell_type": "code",
   "execution_count": null,
   "metadata": {},
   "outputs": [],
   "source": []
  },
  {
   "cell_type": "code",
   "execution_count": null,
   "metadata": {},
   "outputs": [],
   "source": []
  }
 ],
 "metadata": {
  "kernelspec": {
   "display_name": "Python 3",
   "language": "python",
   "name": "python3"
  },
  "language_info": {
   "codemirror_mode": {
    "name": "ipython",
    "version": 3
   },
   "file_extension": ".py",
   "mimetype": "text/x-python",
   "name": "python",
   "nbconvert_exporter": "python",
   "pygments_lexer": "ipython3",
   "version": "3.7.3"
  }
 },
 "nbformat": 4,
 "nbformat_minor": 2
}
