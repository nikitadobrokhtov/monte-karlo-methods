{
 "cells": [
  {
   "cell_type": "code",
   "execution_count": 1,
   "metadata": {},
   "outputs": [],
   "source": [
    "import numpy as np\n",
    "import matplotlib.pyplot as plt"
   ]
  },
  {
   "cell_type": "code",
   "execution_count": 2,
   "metadata": {},
   "outputs": [],
   "source": [
    "a = 0 #left border in uniform distribution\n",
    "b = 4 #right border in uniform distribution\n",
    "sizeSamples = 1000 #size of sample\n",
    "N = 4 #number of random variables\n",
    "\n",
    "E = a + b / 2 #expected value\n",
    "D = (b-a)**2/12 #variance\n",
    "sigma = np.sqrt(D) #"
   ]
  },
  {
   "cell_type": "code",
   "execution_count": 3,
   "metadata": {},
   "outputs": [],
   "source": [
    "array = np.array([np.random.uniform(a, b, sizeSamples) for i in range(N)]) #our sample"
   ]
  },
  {
   "cell_type": "code",
   "execution_count": 4,
   "metadata": {},
   "outputs": [],
   "source": [
    "x_mean = sum(array / N) #mean random variable\n",
    "Z = (x_mean - E) / (sigma / np.sqrt(N)) #our new random variable\n",
    "normal = np.random.normal(size=sizeSamples) #normal distribution"
   ]
  },
  {
   "cell_type": "code",
   "execution_count": 5,
   "metadata": {},
   "outputs": [
    {
     "data": {
      "image/png": "[encoded data removed]",
      "text/plain": [
       "<Figure size 864x648 with 1 Axes>"
      ]
     },
     "metadata": {
      "needs_background": "light"
     },
     "output_type": "display_data"
    }
   ],
   "source": [
    "fig = plt.figure(figsize=(12, 9))\n",
    "\n",
    "\n",
    "bins = 100\n",
    "plt.hist(Z, label='Z', bins=bins)\n",
    "plt.hist(normal, label='N(0,1)', alpha=0.7, bins=bins)\n",
    "\n",
    "plt.legend()\n",
    "\n",
    "plt.show()"
   ]
  }
 ],
 "metadata": {
  "kernelspec": {
   "display_name": "Python 3",
   "language": "python",
   "name": "python3"
  },
  "language_info": {
   "codemirror_mode": {
    "name": "ipython",
    "version": 3
   },
   "file_extension": ".py",
   "mimetype": "text/x-python",
   "name": "python",
   "nbconvert_exporter": "python",
   "pygments_lexer": "ipython3",
   "version": "3.7.3"
  }
 },
 "nbformat": 4,
 "nbformat_minor": 2
}
