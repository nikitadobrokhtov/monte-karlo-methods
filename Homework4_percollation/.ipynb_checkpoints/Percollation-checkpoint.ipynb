{
 "cells": [
  {
   "cell_type": "markdown",
   "metadata": {},
   "source": [
    "Квадратная решётка. В каждой ячейке с вероятностью $p$ находится частица. Частицы образуют кластеры (учитываются связи только по горизонтали или вертикали). Если есть путь, соединяющий верхний ряд с нижним, то такой кластер называем бесконечным.\n",
    "\n",
    "Задача: определить вероятность появления бесконечного кластера, то есть значение $p$, при котором бесконечный кластер появляется. $P(p) - ?$ Для каждого $p$ нужно провести много испытаний и вычислить вероятность появления бесконечного кластера. "
   ]
  },
  {
   "cell_type": "code",
   "execution_count": 1,
   "metadata": {},
   "outputs": [],
   "source": [
    "import numpy as np\n",
    "import matplotlib.pyplot as plt"
   ]
  },
  {
   "cell_type": "code",
   "execution_count": 2,
   "metadata": {},
   "outputs": [],
   "source": [
    "N = 4 # size of lattice\n",
    "lattice = np.zeros((N, N))\n",
    "\n",
    "def generate(probability):\n",
    "    return np.random.choice([0, 1], p=[1-probability, probability])"
   ]
  },
  {
   "cell_type": "code",
   "execution_count": 3,
   "metadata": {},
   "outputs": [],
   "source": [
    "def lattice_with_its_clusters(probability, N = 10):\n",
    "\n",
    "    clusters = []\n",
    "    lattice = np.zeros((N, N))\n",
    "\n",
    "    def insert_node(x_cond, y_cond, x, y):\n",
    "        for k in range(len(clusters)):\n",
    "            if((x_cond, y_cond) in clusters[k]):\n",
    "                clusters[k].add((x, y))\n",
    "                break\n",
    "\n",
    "    for i in range(N):\n",
    "        for j in range(N):\n",
    "            lattice[i, j] = generate(probability)\n",
    "\n",
    "            if(lattice[i, j] == 1): #begin to check neighbours and app\n",
    "                if(j == 0 and i == 0): #First case when i = j = 0\n",
    "                    clusters.append(set())\n",
    "                    clusters[0].add((i, j))\n",
    "                elif(j > 0 and i == 0): #Second case when i = 0, j > 0\n",
    "                    if (lattice[i, j-1] == 0):\n",
    "                        clusters.append(set())\n",
    "                        clusters[-1].add((i, j))\n",
    "                    else:\n",
    "                        insert_node(i, j-1, i, j)\n",
    "                elif(j == 0 and i > 0): #Third case when i > 0, j = 0\n",
    "                    if(lattice[i-1, j] == 0):\n",
    "                        clusters.append(set())\n",
    "                        clusters[-1].add((i, j))\n",
    "                    else:\n",
    "                        insert_node(i-1, j, i, j)\n",
    "                else: #Last case when i > 0, j > 0\n",
    "                    if(lattice[i, j-1] == 0 and lattice[i-1, j] == 0): #First case when 0, 1, 0 (left, (i,j), upper)\n",
    "                        clusters.append(set())\n",
    "                        clusters[-1].add((i, j))\n",
    "                    elif(lattice[i, j-1] == 1 and lattice[i-1, j] == 0): #Second case when 1, 1, 0\n",
    "                        insert_node(i, j-1, i, j)\n",
    "                    elif(lattice[i, j-1] == 0 and lattice[i-1, j] == 1): #Third case when 0, 1, 1\n",
    "                        insert_node(i-1, j, i, j)\n",
    "                    else: #Fourth case when 1, 1, 1 splitted in 2 subcases\n",
    "                        for k in range(len(clusters)):\n",
    "                            if((i, j-1) in clusters[k]):\n",
    "                                clusters[k].add((i, j)) #When neighbours are not in one cluster then:\n",
    "                                if((i-1, j) not in clusters[k]): \n",
    "                                    clusters[k].add((i, j))\n",
    "                                    for kk in range(len(clusters)): #merge sets via (i,j) node\n",
    "                                        if((i-1, j) in clusters[kk]):\n",
    "                                            for item in clusters[k]:\n",
    "                                                clusters[kk].add(item)\n",
    "                                            del clusters[k]\n",
    "                                            break\n",
    "                                    break\n",
    "    return lattice, clusters"
   ]
  },
  {
   "cell_type": "code",
   "execution_count": 4,
   "metadata": {},
   "outputs": [],
   "source": [
    "def has_infinite_cluster(clusters, N=10):\n",
    "    for cluster in clusters:\n",
    "        if(len(cluster) >= 10): #size less than number of nodes in length cannot create infinite cluster\n",
    "            first = 0\n",
    "            last = 0\n",
    "            for node in cluster:\n",
    "                if(node[0] == 0):\n",
    "                    first = 1\n",
    "                if(node[0] == N-1):\n",
    "                    last = 1\n",
    "            if(first == 1 and last == 1):\n",
    "                return True\n",
    "    return False"
   ]
  },
  {
   "cell_type": "code",
   "execution_count": 5,
   "metadata": {},
   "outputs": [
    {
     "data": {
      "text/plain": [
       "True"
      ]
     },
     "execution_count": 5,
     "metadata": {},
     "output_type": "execute_result"
    }
   ],
   "source": [
    "lat, clut = lattice_with_its_clusters(probability=0.48, N=10)\n",
    "has_infinite_cluster(clut, N=10)"
   ]
  },
  {
   "cell_type": "code",
   "execution_count": 6,
   "metadata": {},
   "outputs": [
    {
     "name": "stdout",
     "output_type": "stream",
     "text": [
      "[[1. 0. 1. 0. 0. 0. 0. 1. 1. 1.]\n",
      " [0. 0. 1. 1. 0. 0. 0. 0. 0. 1.]\n",
      " [0. 0. 0. 0. 1. 0. 1. 1. 1. 1.]\n",
      " [0. 0. 1. 1. 0. 0. 1. 0. 1. 1.]\n",
      " [0. 0. 0. 0. 1. 1. 0. 0. 1. 0.]\n",
      " [0. 1. 0. 0. 1. 1. 1. 1. 1. 0.]\n",
      " [1. 1. 1. 1. 1. 0. 1. 0. 1. 1.]\n",
      " [1. 0. 0. 1. 0. 0. 0. 0. 1. 0.]\n",
      " [1. 1. 0. 1. 1. 0. 1. 1. 0. 0.]\n",
      " [0. 0. 1. 0. 1. 1. 1. 0. 1. 1.]]\n"
     ]
    },
    {
     "data": {
      "text/plain": [
       "[{(0, 0)},\n",
       " {(0, 2), (1, 2), (1, 3)},\n",
       " {(2, 4)},\n",
       " {(3, 2), (3, 3)},\n",
       " {(0, 7),\n",
       "  (0, 8),\n",
       "  (0, 9),\n",
       "  (1, 9),\n",
       "  (2, 6),\n",
       "  (2, 7),\n",
       "  (2, 8),\n",
       "  (2, 9),\n",
       "  (3, 6),\n",
       "  (3, 8),\n",
       "  (3, 9),\n",
       "  (4, 4),\n",
       "  (4, 5),\n",
       "  (4, 8),\n",
       "  (5, 1),\n",
       "  (5, 4),\n",
       "  (5, 5),\n",
       "  (5, 6),\n",
       "  (5, 7),\n",
       "  (5, 8),\n",
       "  (6, 0),\n",
       "  (6, 1),\n",
       "  (6, 2),\n",
       "  (6, 3),\n",
       "  (6, 4),\n",
       "  (6, 6),\n",
       "  (6, 8),\n",
       "  (6, 9),\n",
       "  (7, 0),\n",
       "  (7, 3),\n",
       "  (7, 8),\n",
       "  (8, 0),\n",
       "  (8, 1),\n",
       "  (8, 3),\n",
       "  (8, 4),\n",
       "  (8, 6),\n",
       "  (8, 7),\n",
       "  (9, 4),\n",
       "  (9, 5),\n",
       "  (9, 6)},\n",
       " {(9, 2)},\n",
       " {(9, 8), (9, 9)}]"
      ]
     },
     "execution_count": 6,
     "metadata": {},
     "output_type": "execute_result"
    }
   ],
   "source": [
    "print(lat)\n",
    "clut"
   ]
  },
  {
   "cell_type": "code",
   "execution_count": 11,
   "metadata": {},
   "outputs": [],
   "source": [
    "def P_probability_of_infinite_cluster(number_of_iterations, probability, N=10):\n",
    "    infinite_clusters_true = 0;\n",
    "    for i in range(number_of_iterations):\n",
    "        lat, clut = lattice_with_its_clusters(probability, N)\n",
    "        if(has_infinite_cluster(clut, N)):\n",
    "            infinite_clusters_true += 1\n",
    "    return infinite_clusters_true / number_of_iterations"
   ]
  },
  {
   "cell_type": "code",
   "execution_count": 65,
   "metadata": {},
   "outputs": [
    {
     "data": {
      "text/plain": [
       "0.001"
      ]
     },
     "execution_count": 65,
     "metadata": {},
     "output_type": "execute_result"
    }
   ],
   "source": [
    "prob = P_probability_of_infinite_cluster(1000, 0.3, N=10)\n",
    "prob"
   ]
  },
  {
   "cell_type": "code",
   "execution_count": 66,
   "metadata": {},
   "outputs": [],
   "source": [
    "lattice_prob_array = np.linspace(0.3, 0.8, 51)\n",
    "P = []\n",
    "p = []\n",
    "for k in lattice_prob_array:\n",
    "    print(k)\n",
    "    p.append(k)\n",
    "    P.append(P_probability_of_infinite_cluster(1000, k, N=10))"
   ]
  },
  {
   "cell_type": "code",
   "execution_count": 77,
   "metadata": {},
   "outputs": [
    {
     "data": {
      "image/png": "[encoded data removed]",
      "text/plain": [
       "<Figure size 864x648 with 1 Axes>"
      ]
     },
     "metadata": {
      "needs_background": "light"
     },
     "output_type": "display_data"
    }
   ],
   "source": [
    "fig = plt.figure(figsize=(12, 9))\n",
    "\n",
    "plt.plot(p, P, label='Numeric calculations of probability P')\n",
    "\n",
    "plt.plot(p, np.ones(len(p)) * 1/2, color='green', linestyle='--', label = 'P = $\\\\frac{1}{2}$')\n",
    "\n",
    "plt.xlabel(\"p, probability of node existence\", fontsize=14)\n",
    "plt.ylabel(\"P, probability of infinite cluster\", fontsize=14)\n",
    "plt.title(\"P(p) dependance\", fontsize=20, color='red')\n",
    "\n",
    "plt.legend()\n",
    "\n",
    "plt.show()"
   ]
  }
 ],
 "metadata": {
  "kernelspec": {
   "display_name": "Python 3",
   "language": "python",
   "name": "python3"
  },
  "language_info": {
   "codemirror_mode": {
    "name": "ipython",
    "version": 3
   },
   "file_extension": ".py",
   "mimetype": "text/x-python",
   "name": "python",
   "nbconvert_exporter": "python",
   "pygments_lexer": "ipython3",
   "version": "3.6.9"
  }
 },
 "nbformat": 4,
 "nbformat_minor": 2
}
