{
 "cells": [
  {
   "cell_type": "markdown",
   "metadata": {},
   "source": [
    "# Квадратная решётка. В каждой ячейке с вероятностью $p$ находится частица. Частицы образуют кластеры (учитываются связи только по горизонтали или вертикали). Если есть путь, соединяющий верхний ряд с нижним, то такой кластер называем бесконечным.\n",
    "\n",
    "### Задача: определить вероятность появления бесконечного кластера, то есть значение $p$, при котором бесконечный кластер появляется. $P(p)=\\frac{1}{2}, p-?$ Для каждого $p$ нужно провести много испытаний и вычислить вероятность появления бесконечного кластера. "
   ]
  },
  {
   "cell_type": "code",
   "execution_count": 1,
   "metadata": {},
   "outputs": [],
   "source": [
    "#import appropriate libraries for calculations\n",
    "import numpy as np"
   ]
  },
  {
   "cell_type": "code",
   "execution_count": 2,
   "metadata": {},
   "outputs": [],
   "source": [
    "#probabiliy - probability of node in lattice\n",
    "def generate(probability):\n",
    "    return np.random.choice([0, 1], p=[1-probability, probability])"
   ]
  },
  {
   "cell_type": "code",
   "execution_count": 3,
   "metadata": {},
   "outputs": [],
   "source": [
    "#Algorithm calculating all the clusters present in lattice\n",
    "#It returns lattice and list of clusters (set of pairs)\n",
    "def lattice_with_its_clusters(probability, N = 10, M = 20):\n",
    "\n",
    "    clusters = []\n",
    "    lattice = np.zeros((N, M))\n",
    "\n",
    "    def insert_node(x_cond, y_cond, x, y):\n",
    "        for k in range(len(clusters)):\n",
    "            if((x_cond, y_cond) in clusters[k]):\n",
    "                clusters[k].add((x, y))\n",
    "                break\n",
    "\n",
    "    for i in range(N):\n",
    "        for j in range(M):\n",
    "            lattice[i, j] = generate(probability)\n",
    "\n",
    "            if(lattice[i, j] == 1): #begin to check neighbours and app\n",
    "                if(j == 0 and i == 0): #First case when i = j = 0\n",
    "                    clusters.append(set())\n",
    "                    clusters[0].add((i, j))\n",
    "                elif(j > 0 and i == 0): #Second case when i = 0, j > 0\n",
    "                    if (lattice[i, j-1] == 0):\n",
    "                        clusters.append(set())\n",
    "                        clusters[-1].add((i, j))\n",
    "                    else:\n",
    "                        insert_node(i, j-1, i, j)\n",
    "                elif(j == 0 and i > 0): #Third case when i > 0, j = 0\n",
    "                    if(lattice[i-1, j] == 0):\n",
    "                        clusters.append(set())\n",
    "                        clusters[-1].add((i, j))\n",
    "                    else:\n",
    "                        insert_node(i-1, j, i, j)\n",
    "                else: #Last case when i > 0, j > 0\n",
    "                    if(lattice[i, j-1] == 0 and lattice[i-1, j] == 0): #First case when 0, 1, 0 (left, (i,j), upper)\n",
    "                        clusters.append(set())\n",
    "                        clusters[-1].add((i, j))\n",
    "                    elif(lattice[i, j-1] == 1 and lattice[i-1, j] == 0): #Second case when 1, 1, 0\n",
    "                        insert_node(i, j-1, i, j)\n",
    "                    elif(lattice[i, j-1] == 0 and lattice[i-1, j] == 1): #Third case when 0, 1, 1\n",
    "                        insert_node(i-1, j, i, j)\n",
    "                    else: #Fourth case when 1, 1, 1 splitted in 2 subcases\n",
    "                        for k in range(len(clusters)):\n",
    "                            if((i, j-1) in clusters[k]):\n",
    "                                clusters[k].add((i, j)) #When neighbours are not in one cluster then:\n",
    "                                if((i-1, j) not in clusters[k]): \n",
    "                                    clusters[k].add((i, j))\n",
    "                                    for kk in range(len(clusters)): #merge sets via (i,j) node\n",
    "                                        if((i-1, j) in clusters[kk]):\n",
    "                                            for item in clusters[k]:\n",
    "                                                clusters[kk].add(item)\n",
    "                                            del clusters[k]\n",
    "                                            break\n",
    "                                    break\n",
    "    return lattice, clusters"
   ]
  },
  {
   "cell_type": "code",
   "execution_count": 4,
   "metadata": {},
   "outputs": [],
   "source": [
    "#Algorithm checking if there is an infinite cluster in given lattice\n",
    "def has_infinite_cluster(clusters, N=10, M=20):\n",
    "    for cluster in clusters:\n",
    "        if(len(cluster) >= 10): #size less than number of nodes in length cannot create infinite cluster\n",
    "            first = 0\n",
    "            last = 0\n",
    "            for node in cluster:\n",
    "                if(node[0] == 0):\n",
    "                    first = 1\n",
    "                if(node[0] == N-1):\n",
    "                    last = 1\n",
    "            if(first == 1 and last == 1):\n",
    "                return True\n",
    "    return False"
   ]
  },
  {
   "cell_type": "code",
   "execution_count": 5,
   "metadata": {},
   "outputs": [
    {
     "data": {
      "text/plain": [
       "False"
      ]
     },
     "execution_count": 5,
     "metadata": {},
     "output_type": "execute_result"
    }
   ],
   "source": [
    "#Example of algorithm work\n",
    "lat, clut = lattice_with_its_clusters(probability=0.48, N=10)\n",
    "has_infinite_cluster(clut, N=10, M=20)"
   ]
  },
  {
   "cell_type": "code",
   "execution_count": 6,
   "metadata": {},
   "outputs": [
    {
     "name": "stdout",
     "output_type": "stream",
     "text": [
      "[[0. 0. 0. 1. 0. 1. 0. 0. 1. 1. 0. 1. 0. 0. 1. 0. 0. 1. 1. 0.]\n",
      " [1. 1. 0. 1. 0. 0. 1. 0. 1. 0. 0. 0. 0. 1. 1. 0. 0. 0. 0. 0.]\n",
      " [0. 0. 0. 0. 1. 1. 1. 1. 1. 1. 0. 1. 1. 1. 0. 0. 1. 0. 1. 0.]\n",
      " [1. 0. 1. 0. 1. 0. 0. 0. 0. 0. 0. 0. 0. 0. 0. 1. 1. 1. 0. 1.]\n",
      " [0. 1. 1. 0. 0. 1. 0. 0. 0. 1. 0. 1. 0. 1. 1. 0. 1. 0. 0. 1.]\n",
      " [0. 0. 0. 0. 1. 0. 0. 0. 0. 1. 0. 1. 1. 1. 0. 1. 1. 1. 1. 0.]\n",
      " [0. 1. 1. 1. 1. 1. 1. 1. 1. 1. 0. 1. 0. 1. 0. 0. 1. 1. 1. 0.]\n",
      " [1. 0. 0. 0. 0. 1. 1. 0. 0. 0. 0. 0. 0. 1. 0. 0. 0. 0. 1. 0.]\n",
      " [1. 0. 0. 1. 0. 0. 1. 0. 0. 0. 0. 0. 0. 1. 0. 0. 0. 0. 0. 1.]\n",
      " [0. 0. 0. 0. 0. 0. 1. 0. 0. 1. 1. 0. 0. 1. 0. 1. 1. 0. 0. 0.]]\n"
     ]
    },
    {
     "data": {
      "text/plain": [
       "[{(0, 3), (1, 3)},\n",
       " {(0, 5)},\n",
       " {(0, 8),\n",
       "  (0, 9),\n",
       "  (1, 6),\n",
       "  (1, 8),\n",
       "  (2, 4),\n",
       "  (2, 5),\n",
       "  (2, 6),\n",
       "  (2, 7),\n",
       "  (2, 8),\n",
       "  (2, 9),\n",
       "  (3, 4)},\n",
       " {(0, 11)},\n",
       " {(0, 14), (1, 13), (1, 14), (2, 11), (2, 12), (2, 13)},\n",
       " {(0, 17), (0, 18)},\n",
       " {(1, 0), (1, 1)},\n",
       " {(2, 16),\n",
       "  (3, 15),\n",
       "  (3, 16),\n",
       "  (3, 17),\n",
       "  (4, 16),\n",
       "  (5, 15),\n",
       "  (5, 16),\n",
       "  (5, 17),\n",
       "  (5, 18),\n",
       "  (6, 16),\n",
       "  (6, 17),\n",
       "  (6, 18),\n",
       "  (7, 18)},\n",
       " {(2, 18)},\n",
       " {(3, 0)},\n",
       " {(3, 2), (4, 1), (4, 2)},\n",
       " {(3, 19), (4, 19)},\n",
       " {(4, 5)},\n",
       " {(4, 9),\n",
       "  (5, 4),\n",
       "  (5, 9),\n",
       "  (6, 1),\n",
       "  (6, 2),\n",
       "  (6, 3),\n",
       "  (6, 4),\n",
       "  (6, 5),\n",
       "  (6, 6),\n",
       "  (6, 7),\n",
       "  (6, 8),\n",
       "  (6, 9),\n",
       "  (7, 5),\n",
       "  (7, 6),\n",
       "  (8, 6),\n",
       "  (9, 6)},\n",
       " {(4, 11),\n",
       "  (4, 13),\n",
       "  (4, 14),\n",
       "  (5, 11),\n",
       "  (5, 12),\n",
       "  (5, 13),\n",
       "  (6, 11),\n",
       "  (6, 13),\n",
       "  (7, 13),\n",
       "  (8, 13),\n",
       "  (9, 13)},\n",
       " {(7, 0), (8, 0)},\n",
       " {(8, 3)},\n",
       " {(8, 19)},\n",
       " {(9, 9), (9, 10)},\n",
       " {(9, 15), (9, 16)}]"
      ]
     },
     "execution_count": 6,
     "metadata": {},
     "output_type": "execute_result"
    }
   ],
   "source": [
    "#Prited lattice and all clusters in it\n",
    "print(lat)\n",
    "clut"
   ]
  },
  {
   "cell_type": "code",
   "execution_count": 7,
   "metadata": {},
   "outputs": [],
   "source": [
    "#Make the experiment with given parameters of p (probabality) and N (size of lattice)\n",
    "#number_of_iterations times to define the probability of\n",
    "#appearance of infinite cluster\n",
    "def P_probability_of_infinite_cluster(number_of_iterations, probability, N=10, M=20):\n",
    "    infinite_clusters_true = 0;\n",
    "    for i in range(number_of_iterations):\n",
    "        lat, clut = lattice_with_its_clusters(probability, N, M)\n",
    "        if(has_infinite_cluster(clut, N, M)):\n",
    "            infinite_clusters_true += 1\n",
    "    return infinite_clusters_true / number_of_iterations"
   ]
  },
  {
   "cell_type": "markdown",
   "metadata": {},
   "source": [
    "# Посчитаем (1000 раз для каждой вероятности и размера решетки) вероятность для размеров решёток $N\\in\\{5, 10, 15, 30, 100\\}$ в промежутке вероятности $p\\in[0.3, 0.8]$, а также уточнённую версию для $N=30$ в промежутке вероятности $p\\in[0.58,0.6]$\n",
    "\n",
    "## Все результаты записываются в файлы (чтобы было потом удобнее это считывать, а не каждый раз запускать программу: долго считается) "
   ]
  },
  {
   "cell_type": "code",
   "execution_count": 8,
   "metadata": {},
   "outputs": [],
   "source": [
    "#This piece of code calculated all the appropriated data\n",
    "\n",
    "#for N_lat in [5, 10, 15, 30, 100]:\n",
    "#    lattice_prob_array = np.linspace(0.3, 0.8, 501)\n",
    "#    P = []\n",
    "#    p = []\n",
    "#    for k in lattice_prob_array:\n",
    "#        print(k)\n",
    "#        p.append(k)\n",
    "#        P.append(P_probability_of_infinite_cluster(1000, k, N=N_lat, M=N_lat))\n",
    "#    np.save('inf_clust_prob_30_' + str(N_lat, P)\n",
    "#np.save('lattice_prob.npy', np.linspace(0.3, 0.8, 501))\n",
    "\n",
    "\n",
    "#P = []\n",
    "#p = []\n",
    "#lattice_prob_array = np.linspace(0.58, 0.6, 201)\n",
    "#for k in lattice_prob_array:\n",
    "#    print(k)\n",
    "#    p.append(k)\n",
    "#    P.append(P_probability_of_infinite_cluster(10000, k, N=30, M=30))\n",
    "#np.save('inf_clust_prob_30_thorough_10000.npy', P)\n",
    "#np.save('lattice_prob_10000.npy', np.linspace(0.58, 0.6, 201))"
   ]
  },
  {
   "cell_type": "markdown",
   "metadata": {},
   "source": [
    "# Посчитаем для прямоугольной решётки $N\\times M=50\\times 100$ вероятность бесконечного кластера."
   ]
  },
  {
   "cell_type": "code",
   "execution_count": 9,
   "metadata": {},
   "outputs": [],
   "source": [
    "#P = []\n",
    "#lattice_prob_array = np.linspace(0.3, 0.8, 51)\n",
    "#for k in lattice_prob_array:\n",
    "#    print(k)\n",
    "#    P.append(P_probability_of_infinite_cluster(1000, k, N=50, M=100))\n",
    "#np.save('inf_clust_prob_50_times_100.npy', P)\n",
    "#np.save('lattice_prob_50_times_100.npy', np.linspace(0.3, 0.8, 51))"
   ]
  }
 ],
 "metadata": {
  "kernelspec": {
   "display_name": "Python 3",
   "language": "python",
   "name": "python3"
  },
  "language_info": {
   "codemirror_mode": {
    "name": "ipython",
    "version": 3
   },
   "file_extension": ".py",
   "mimetype": "text/x-python",
   "name": "python",
   "nbconvert_exporter": "python",
   "pygments_lexer": "ipython3",
   "version": "3.6.9"
  }
 },
 "nbformat": 4,
 "nbformat_minor": 2
}
