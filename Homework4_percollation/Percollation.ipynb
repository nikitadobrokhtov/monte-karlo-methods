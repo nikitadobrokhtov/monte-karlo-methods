{
 "cells": [
  {
   "cell_type": "markdown",
   "metadata": {},
   "source": [
    "Квадратная решётка. В каждой ячейке с вероятностью $p$ находится частица. Частицы образуют кластеры (учитываются связи только по горизонтали или вертикали). Если есть путь, соединяющий верхний ряд с нижним, то такой кластер называем бесконечным.\n",
    "\n",
    "Задача: определить вероятность появления бесконечного кластера, то есть значение $p$, при котором бесконечный кластер появляется. $P(p) - ?$ Для каждого $p$ нужно провести много испытаний и вычислить вероятность появления бесконечного кластера. "
   ]
  },
  {
   "cell_type": "code",
   "execution_count": 1,
   "metadata": {},
   "outputs": [],
   "source": [
    "import numpy as np\n",
    "import matplotlib.pyplot as plt"
   ]
  },
  {
   "cell_type": "code",
   "execution_count": 2,
   "metadata": {},
   "outputs": [],
   "source": [
    "N = 4 # size of lattice\n",
    "lattice = np.zeros((N, N))\n",
    "\n",
    "def generate(probability):\n",
    "    return np.random.choice([0, 1], p=[1-probability, probability])"
   ]
  },
  {
   "cell_type": "code",
   "execution_count": 3,
   "metadata": {},
   "outputs": [],
   "source": [
    "def lattice_with_its_clusters(probability, N = 10):\n",
    "\n",
    "    clusters = []\n",
    "    lattice = np.zeros((N, N))\n",
    "\n",
    "    def insert_node(x_cond, y_cond, x, y):\n",
    "        for k in range(len(clusters)):\n",
    "            if((x_cond, y_cond) in clusters[k]):\n",
    "                clusters[k].add((x, y))\n",
    "                break\n",
    "\n",
    "    for i in range(N):\n",
    "        for j in range(N):\n",
    "            lattice[i, j] = generate(probability)\n",
    "\n",
    "            if(lattice[i, j] == 1): #begin to check neighbours and app\n",
    "                if(j == 0 and i == 0): #First case when i = j = 0\n",
    "                    clusters.append(set())\n",
    "                    clusters[0].add((i, j))\n",
    "                elif(j > 0 and i == 0): #Second case when i = 0, j > 0\n",
    "                    if (lattice[i, j-1] == 0):\n",
    "                        clusters.append(set())\n",
    "                        clusters[-1].add((i, j))\n",
    "                    else:\n",
    "                        insert_node(i, j-1, i, j)\n",
    "                elif(j == 0 and i > 0): #Third case when i > 0, j = 0\n",
    "                    if(lattice[i-1, j] == 0):\n",
    "                        clusters.append(set())\n",
    "                        clusters[-1].add((i, j))\n",
    "                    else:\n",
    "                        insert_node(i-1, j, i, j)\n",
    "                else: #Last case when i > 0, j > 0\n",
    "                    if(lattice[i, j-1] == 0 and lattice[i-1, j] == 0): #First case when 0, 1, 0 (left, (i,j), upper)\n",
    "                        clusters.append(set())\n",
    "                        clusters[-1].add((i, j))\n",
    "                    elif(lattice[i, j-1] == 1 and lattice[i-1, j] == 0): #Second case when 1, 1, 0\n",
    "                        insert_node(i, j-1, i, j)\n",
    "                    elif(lattice[i, j-1] == 0 and lattice[i-1, j] == 1): #Third case when 0, 1, 1\n",
    "                        insert_node(i-1, j, i, j)\n",
    "                    else: #Fourth case when 1, 1, 1 splitted in 2 subcases\n",
    "                        for k in range(len(clusters)):\n",
    "                            if((i, j-1) in clusters[k]):\n",
    "                                clusters[k].add((i, j)) #When neighbours are not in one cluster then:\n",
    "                                if((i-1, j) not in clusters[k]): \n",
    "                                    clusters[k].add((i, j))\n",
    "                                    for kk in range(len(clusters)): #merge sets via (i,j) node\n",
    "                                        if((i-1, j) in clusters[kk]):\n",
    "                                            for item in clusters[k]:\n",
    "                                                clusters[kk].add(item)\n",
    "                                            del clusters[k]\n",
    "                                            break\n",
    "                                    break\n",
    "    return lattice, clusters"
   ]
  },
  {
   "cell_type": "code",
   "execution_count": 4,
   "metadata": {},
   "outputs": [],
   "source": [
    "def has_infinite_cluster(clusters, N=10):\n",
    "    for cluster in clusters:\n",
    "        if(len(cluster) >= 10): #size less than number of nodes in length cannot create infinite cluster\n",
    "            first = 0\n",
    "            last = 0\n",
    "            for node in cluster:\n",
    "                if(node[0] == 0):\n",
    "                    first = 1\n",
    "                if(node[0] == N-1):\n",
    "                    last = 1\n",
    "            if(first == 1 and last == 1):\n",
    "                return True\n",
    "    return False"
   ]
  },
  {
   "cell_type": "code",
   "execution_count": 5,
   "metadata": {},
   "outputs": [
    {
     "data": {
      "text/plain": [
       "False"
      ]
     },
     "execution_count": 5,
     "metadata": {},
     "output_type": "execute_result"
    }
   ],
   "source": [
    "lat, clut = lattice_with_its_clusters(probability=0.48, N=10)\n",
    "has_infinite_cluster(clut, N=10)"
   ]
  },
  {
   "cell_type": "code",
   "execution_count": 6,
   "metadata": {},
   "outputs": [
    {
     "name": "stdout",
     "output_type": "stream",
     "text": [
      "[[1. 1. 1. 0. 0. 0. 1. 1. 1. 1.]\n",
      " [0. 1. 1. 0. 0. 1. 1. 1. 0. 1.]\n",
      " [0. 1. 1. 0. 1. 0. 0. 0. 1. 0.]\n",
      " [1. 0. 1. 1. 0. 1. 1. 0. 1. 1.]\n",
      " [0. 0. 1. 1. 1. 1. 0. 1. 1. 0.]\n",
      " [0. 1. 0. 0. 0. 0. 0. 1. 1. 1.]\n",
      " [1. 1. 1. 0. 1. 1. 0. 0. 0. 0.]\n",
      " [0. 1. 1. 0. 1. 0. 0. 1. 0. 1.]\n",
      " [0. 1. 1. 0. 0. 0. 1. 1. 0. 0.]\n",
      " [1. 1. 1. 1. 0. 1. 0. 1. 0. 1.]]\n"
     ]
    },
    {
     "data": {
      "text/plain": [
       "[{(0, 6), (0, 7), (0, 8), (0, 9), (1, 5), (1, 6), (1, 7), (1, 9)},\n",
       " {(2, 4)},\n",
       " {(2, 8), (3, 8), (3, 9), (4, 7), (4, 8), (5, 7), (5, 8), (5, 9)},\n",
       " {(3, 0)},\n",
       " {(0, 0),\n",
       "  (0, 1),\n",
       "  (0, 2),\n",
       "  (1, 1),\n",
       "  (1, 2),\n",
       "  (2, 1),\n",
       "  (2, 2),\n",
       "  (3, 2),\n",
       "  (3, 3),\n",
       "  (3, 5),\n",
       "  (3, 6),\n",
       "  (4, 2),\n",
       "  (4, 3),\n",
       "  (4, 4),\n",
       "  (4, 5)},\n",
       " {(5, 1),\n",
       "  (6, 0),\n",
       "  (6, 1),\n",
       "  (6, 2),\n",
       "  (7, 1),\n",
       "  (7, 2),\n",
       "  (8, 1),\n",
       "  (8, 2),\n",
       "  (9, 0),\n",
       "  (9, 1),\n",
       "  (9, 2),\n",
       "  (9, 3)},\n",
       " {(6, 4), (6, 5), (7, 4)},\n",
       " {(7, 7), (8, 6), (8, 7), (9, 7)},\n",
       " {(7, 9)},\n",
       " {(9, 5)},\n",
       " {(9, 9)}]"
      ]
     },
     "execution_count": 6,
     "metadata": {},
     "output_type": "execute_result"
    }
   ],
   "source": [
    "print(lat)\n",
    "clut"
   ]
  },
  {
   "cell_type": "code",
   "execution_count": null,
   "metadata": {},
   "outputs": [],
   "source": []
  }
 ],
 "metadata": {
  "kernelspec": {
   "display_name": "Python 3",
   "language": "python",
   "name": "python3"
  },
  "language_info": {
   "codemirror_mode": {
    "name": "ipython",
    "version": 3
   },
   "file_extension": ".py",
   "mimetype": "text/x-python",
   "name": "python",
   "nbconvert_exporter": "python",
   "pygments_lexer": "ipython3",
   "version": "3.6.9"
  }
 },
 "nbformat": 4,
 "nbformat_minor": 2
}
