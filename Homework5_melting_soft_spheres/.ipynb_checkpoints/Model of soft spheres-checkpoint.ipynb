{
 "cells": [
  {
   "cell_type": "markdown",
   "metadata": {},
   "source": [
    "### Система мягких сфер\n",
    "$$\n",
    "    \\Phi(r) = \\varepsilon\\left(\\frac{\\sigma}{r}\\right)^n, \\; n\\in(3,+\\infty)\\\\\n",
    "    F=-T\\ln{Z}\n",
    "    Z_n=\\int\\frac{d^{3N}pd^{3N}q}{N!h^{3N}}\\rho e^{-\\beta H(p,q)}=\n",
    "    \\frac{1}{N!h^{3N}}\\int e^{-\\sigma^n\\frac{\\varepsilon}{kT}\\sum r_{ij}^{-n}}d\\overline{r}^N=\\\\=\n",
    "    \\frac{V^N}{N!h^{3N}}\n",
    "    \\int\\exp\\left(-\\tilde{\\rho}^{\\frac{n}{3}}\\frac{\\varepsilon}{kT}\\sum s_{ij}^{-n}\\right)d\\overline{s}^N=\n",
    "    \\frac{V^N}{N!h^{3N}}\n",
    "    \\int\\exp{\\left[-\\left(\\frac{6\\zeta}{\\pi}\\right)^{\\frac{3}{n}}\\sum s_{ij}^{-n}\\right]}d\\overline{s}^N,\n",
    "$$\n",
    "\n",
    "где \n",
    "$$\n",
    "    \\overline{s}=\\overline{r}\\left(\\frac{N}{V}\\right)^{\\frac{1}{3}}, \\;\n",
    "    \\Lambda = \\frac{h^2}{2\\pi mkT}, \\; \n",
    "    \\tilde{\\rho} = \\frac{N\\sigma^3}{V}\n",
    "$$\n",
    "\n",
    "Таким образом, свободная энергия зависит только от парамметра $\\zeta=\\frac{\\pi}{6}\\left(\\frac{\\varepsilon}{kT}\\right)^{\\frac{3}{n}}\\rho\\sigma^3, \\; \\rho=\\frac{N}{V}$.\n",
    "\n",
    "Таким образом, для одного и того же $\\zeta$ величины $\\frac{pV}{NkT}$, $\\frac{E}{NkT}$, $D\\left(\\frac{N}{V}\\right)^{\\frac{1}{3}}\\left(\\frac{m}{kT}\\right)^{\\frac{1}{2}}$ и другиие одинаковы.\n",
    "\n",
    "Выбираем $n=6$, $\\zeta=1.18$ (соответствует точке плавления). Гранецентрированная решётка ($N=4s^3=256$).\n",
    "\n",
    "Также посмотрим систему при $\\zeta=1.5$ (кристал) и $\\zeta=0.8$ (жидкость). Нужно применить алгоритм Метрополиса с периодичесскими граничными условиями."
   ]
  },
  {
   "cell_type": "markdown",
   "metadata": {},
   "source": [
    "### Теорема вириала для систеемы мягких сфер.\n",
    "\n",
    "Вириал $\\sum \\overline{F}_i\\overline{r}_i$.\n",
    "\n",
    "Теорема: $2\\left<T\\right>=-\\sum\\limits_{i=1}^N\\overline{F}_i\\overline{r}_i$\n",
    "\n",
    "Для однородных потенциалов $2\\left<T\\right>=n\\left<U\\right>$.\n",
    "\n",
    "Можно показать, что $\\frac{1}{3}\\left<\\sum \\overline{F}_i\\overline{r}_i\\right>=-k$"
   ]
  },
  {
   "cell_type": "code",
   "execution_count": null,
   "metadata": {},
   "outputs": [],
   "source": []
  },
  {
   "cell_type": "code",
   "execution_count": null,
   "metadata": {},
   "outputs": [],
   "source": []
  }
 ],
 "metadata": {
  "kernelspec": {
   "display_name": "Python 3",
   "language": "python",
   "name": "python3"
  },
  "language_info": {
   "codemirror_mode": {
    "name": "ipython",
    "version": 3
   },
   "file_extension": ".py",
   "mimetype": "text/x-python",
   "name": "python",
   "nbconvert_exporter": "python",
   "pygments_lexer": "ipython3",
   "version": "3.6.9"
  }
 },
 "nbformat": 4,
 "nbformat_minor": 2
}
