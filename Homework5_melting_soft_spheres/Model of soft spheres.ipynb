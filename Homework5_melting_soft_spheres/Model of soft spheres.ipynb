{
 "cells": [
  {
   "cell_type": "markdown",
   "metadata": {},
   "source": [
    "### Система мягких сфер\n",
    "$$\n",
    "    \\Phi(r) = \\varepsilon\\left(\\frac{\\sigma}{r}\\right)^n, \\; n\\in(3,+\\infty)\\\\\n",
    "    F=-T\\ln{Z}\n",
    "    Z_n=\\int\\frac{d^{3N}pd^{3N}q}{N!h^{3N}}\\rho e^{-\\beta H(p,q)}=\n",
    "    \\frac{1}{N!h^{3N}}\\int e^{-\\sigma^n\\frac{\\varepsilon}{kT}\\sum r_{ij}^{-n}}d\\overline{r}^N=\\\\=\n",
    "    \\frac{V^N}{N!h^{3N}}\n",
    "    \\int\\exp\\left(-\\tilde{\\rho}^{\\frac{n}{3}}\\frac{\\varepsilon}{kT}\\sum s_{ij}^{-n}\\right)d\\overline{s}^N=\n",
    "    \\frac{V^N}{N!h^{3N}}\n",
    "    \\int\\exp{\\left[-\\left(\\frac{6\\zeta}{\\pi}\\right)^{\\frac{3}{n}}\\sum s_{ij}^{-n}\\right]}d\\overline{s}^N,\n",
    "$$\n",
    "\n",
    "где \n",
    "$$\n",
    "    \\overline{s}=\\overline{r}\\left(\\frac{N}{V}\\right)^{\\frac{1}{3}}, \\;\n",
    "    \\Lambda = \\frac{h^2}{2\\pi mkT}, \\; \n",
    "    \\tilde{\\rho} = \\frac{N\\sigma^3}{V}\n",
    "$$\n",
    "\n",
    "Таким образом, свободная энергия зависит только от парамметра $\\zeta=\\frac{\\pi}{6}\\left(\\frac{\\varepsilon}{kT}\\right)^{\\frac{3}{n}}\\rho\\sigma^3, \\; \\rho=\\frac{N}{V}$.\n",
    "\n",
    "Таким образом, для одного и того же $\\zeta$ величины $\\frac{pV}{NkT}$, $\\frac{E}{NkT}$, $D\\left(\\frac{N}{V}\\right)^{\\frac{1}{3}}\\left(\\frac{m}{kT}\\right)^{\\frac{1}{2}}$ и другиие одинаковы.\n",
    "\n",
    "Выбираем $n=6$, $\\zeta=1.18$ (соответствует точке плавления). Гранецентрированная решётка ($N=4s^3=256$).\n",
    "\n",
    "Также посмотрим систему при $\\zeta=1.5$ (кристал) и $\\zeta=0.8$ (жидкость). Нужно применить алгоритм Метрополиса с периодическими граничными условиями."
   ]
  },
  {
   "cell_type": "markdown",
   "metadata": {},
   "source": [
    "### Теорема вириала для систеемы мягких сфер.\n",
    "\n",
    "Вириал $\\sum \\overline{F}_i\\overline{r}_i$.\n",
    "\n",
    "Теорема: $2\\left<T\\right>=-\\sum\\limits_{i=1}^N\\overline{F}_i\\overline{r}_i$\n",
    "\n",
    "Для однородных потенциалов $2\\left<T\\right>=n\\left<U\\right>$.\n",
    "\n",
    "Можно показать, что $\\frac{1}{3}\\left<\\sum \\overline{F}_i\\overline{r}_i\\right>=-k$"
   ]
  },
  {
   "cell_type": "code",
   "execution_count": 1,
   "metadata": {},
   "outputs": [],
   "source": [
    "import numpy as np\n",
    "from numpy import sqrt"
   ]
  },
  {
   "cell_type": "code",
   "execution_count": 2,
   "metadata": {},
   "outputs": [],
   "source": [
    "a = 1 #lattice constant\n",
    "\n",
    "#inicial cube of face-centered lattice\n",
    "cube = [(0, 0, 0), \n",
    "        (a, 0, 0), \n",
    "        (0, a, 0), \n",
    "        (a, a, 0), \n",
    "        (0, 0, a), \n",
    "        (a, 0, a), \n",
    "        (0, a, a), \n",
    "        (a, a, a),#end of usual cubic lattice\n",
    "        (a/2, a/2, 0),\n",
    "        (a/2, 0, a/2),\n",
    "        (0, a/2, a/2),\n",
    "        (a/2, a/2, a),\n",
    "        (a/2, a, a/2),\n",
    "        (a, a/2, a/2)]#end of face-centered lattice"
   ]
  },
  {
   "cell_type": "code",
   "execution_count": 3,
   "metadata": {},
   "outputs": [],
   "source": [
    "#Calculates distances between two vectors in a cell with periodic conditions\n",
    "#N is a size of the lattice in a units\n",
    "def distance(A, B, N=4, a=1):\n",
    "    distances = []\n",
    "    for i in range(-1, 2):\n",
    "        for j in range(-1, 2):\n",
    "            for k in range(-1, 2):\n",
    "                distances.append(sqrt((A[0] + i * a * N - B[0])**2 + \n",
    "                                      (A[1] + j * a * N - B[1])**2 + \n",
    "                                      (A[2] + k * a * N - B[2])**2))\n",
    "    \n",
    "    return min(distances)"
   ]
  },
  {
   "cell_type": "code",
   "execution_count": 4,
   "metadata": {},
   "outputs": [],
   "source": [
    "#This function shifts the initial cube by given (dx, dy, dz) directions, where dx, dy, dz are integers\n",
    "def generate_cube(dx, dy, dz, a, initial_cube):#in units of a\n",
    "    def add(vec_1, vec_2):\n",
    "        return (vec_1[0] + vec_2[0], vec_1[1] + vec_2[1], vec_1[2] + vec_2[2])\n",
    "    \n",
    "    d_vec = (dx * a, dy * a, dz * a)\n",
    "\n",
    "    return [add(i, d_vec) for i in cube]\n"
   ]
  },
  {
   "cell_type": "code",
   "execution_count": 5,
   "metadata": {},
   "outputs": [
    {
     "name": "stdout",
     "output_type": "stream",
     "text": [
      "Number of atoms: 256\n"
     ]
    }
   ],
   "source": [
    "#Create cubic cell\n",
    "N = 4 #number of cubes in a row\n",
    "\n",
    "set_of_coordinates = set()\n",
    "for x in range(N):\n",
    "    for y in range(N):\n",
    "        for z in range(N):\n",
    "            new_cube = generate_cube(x, y, z, a, cube)\n",
    "            for coord in new_cube:\n",
    "                if (coord[0] != N and coord[1] != N and coord[2] != N):\n",
    "                    set_of_coordinates.add(coord)\n",
    "\n",
    "\n",
    "coordinates_of_all_atoms_in_lattice = list(set_of_coordinates)\n",
    "\n",
    "number_of_atoms = len(coordinates_of_all_atoms_in_lattice)\n",
    "print(\"Number of atoms: \" + str(number_of_atoms))"
   ]
  },
  {
   "cell_type": "code",
   "execution_count": 6,
   "metadata": {},
   "outputs": [],
   "source": [
    "#Define potential\n",
    "varepsilon = 1\n",
    "sigma = 1\n",
    "n = 6\n",
    "\n",
    "def Phi(r, varepsilon=1, sigma=1, n = 6):\n",
    "    return varepsilon * (sigma / r) ** n"
   ]
  },
  {
   "cell_type": "code",
   "execution_count": 7,
   "metadata": {},
   "outputs": [
    {
     "name": "stdout",
     "output_type": "stream",
     "text": [
      "Full energy: E = 14629.196651952157\n"
     ]
    }
   ],
   "source": [
    "#Let's find full energy\n",
    "E = 0\n",
    "\n",
    "for i in range(number_of_atoms):\n",
    "    for j in range(i, number_of_atoms):\n",
    "        if(i != j):\n",
    "            E += Phi(distance(coordinates_of_all_atoms_in_lattice[i], coordinates_of_all_atoms_in_lattice[j], N=N, a=a))\n",
    "            #E += n / 2 * <expression one row above>\n",
    "print(\"Full energy: E = \" + str(E))"
   ]
  },
  {
   "cell_type": "code",
   "execution_count": null,
   "metadata": {},
   "outputs": [],
   "source": []
  }
 ],
 "metadata": {
  "kernelspec": {
   "display_name": "Python 3",
   "language": "python",
   "name": "python3"
  },
  "language_info": {
   "codemirror_mode": {
    "name": "ipython",
    "version": 3
   },
   "file_extension": ".py",
   "mimetype": "text/x-python",
   "name": "python",
   "nbconvert_exporter": "python",
   "pygments_lexer": "ipython3",
   "version": "3.6.9"
  }
 },
 "nbformat": 4,
 "nbformat_minor": 2
}
